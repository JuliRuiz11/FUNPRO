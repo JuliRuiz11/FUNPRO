{
  "nbformat": 4,
  "nbformat_minor": 0,
  "metadata": {
    "colab": {
      "provenance": []
    },
    "kernelspec": {
      "name": "python3",
      "display_name": "Python 3"
    },
    "language_info": {
      "name": "python"
    }
  },
  "cells": [
    {
      "cell_type": "code",
      "execution_count": 53,
      "metadata": {
        "colab": {
          "base_uri": "https://localhost:8080/"
        },
        "id": "9IRAjRwIjnjE",
        "outputId": "a801efca-f007-4d4a-be42-af342341334b"
      },
      "outputs": [
        {
          "name": "stdout",
          "output_type": "stream",
          "text": [
            "Primer Lado 28\n",
            "Segundo Lado 28\n",
            "Tercer Lado 28\n"
          ]
        }
      ],
      "source": [
        "# Área triangulo con sus lados.\n",
        "\n",
        "L1=float(input(\"Primer Lado \"))\n",
        "L2=float(input(\"Segundo Lado \"))\n",
        "L3=float(input(\"Tercer Lado \"))"
      ]
    },
    {
      "cell_type": "code",
      "source": [
        "# Calcular S\n",
        "\n",
        "calcularS=(L1+L2+L3)/2"
      ],
      "metadata": {
        "id": "dyVx3SIzkXgV"
      },
      "execution_count": 54,
      "outputs": []
    },
    {
      "cell_type": "code",
      "source": [
        "# Calcular Área\n",
        "\n",
        "import math\n",
        "área=math.sqrt(calcularS*(calcularS-L1)*(calcularS-L2)*(calcularS-L3))"
      ],
      "metadata": {
        "id": "bMKq6OXklGZC"
      },
      "execution_count": 55,
      "outputs": []
    },
    {
      "cell_type": "code",
      "source": [
        "# Mostrar el área resultante\n",
        "\n",
        "print(f\"El área del triangulo es: {área}\")"
      ],
      "metadata": {
        "colab": {
          "base_uri": "https://localhost:8080/"
        },
        "id": "6oWk7cH0kzkl",
        "outputId": "c53591db-3bfb-4244-a20b-178da3e5ec6a"
      },
      "execution_count": 56,
      "outputs": [
        {
          "output_type": "stream",
          "name": "stdout",
          "text": [
            "El área del triangulo es: 339.4819582835\n"
          ]
        }
      ]
    }
  ]
}