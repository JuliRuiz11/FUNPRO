{
  "nbformat": 4,
  "nbformat_minor": 0,
  "metadata": {
    "colab": {
      "provenance": []
    },
    "kernelspec": {
      "name": "python3",
      "display_name": "Python 3"
    },
    "language_info": {
      "name": "python"
    }
  },
  "cells": [
    {
      "cell_type": "code",
      "execution_count": 2,
      "metadata": {
        "colab": {
          "base_uri": "https://localhost:8080/"
        },
        "id": "ZGyqF5vehfEr",
        "outputId": "9919bbf8-5766-411a-a175-6cad0523d228"
      },
      "outputs": [
        {
          "name": "stdout",
          "output_type": "stream",
          "text": [
            "Número de dias 30\n"
          ]
        }
      ],
      "source": [
        "# Segundos en un número de días.\n",
        "\n",
        "dias=float(input(\"Número de dias \"))"
      ]
    },
    {
      "cell_type": "code",
      "source": [
        "# Calcular segundos\n",
        "\n",
        "calcular1=(dias*24*60*60)"
      ],
      "metadata": {
        "id": "Tr9uv18XiHav"
      },
      "execution_count": 6,
      "outputs": []
    },
    {
      "cell_type": "code",
      "source": [
        "# Mostrar segundos\n",
        "\n",
        "print(f\"Calcular segundos: {calcular1}\")"
      ],
      "metadata": {
        "colab": {
          "base_uri": "https://localhost:8080/"
        },
        "id": "FvPUKBIgij-E",
        "outputId": "a694d809-fc6c-4542-b1b0-c38fee58f14e"
      },
      "execution_count": 7,
      "outputs": [
        {
          "output_type": "stream",
          "name": "stdout",
          "text": [
            "Calcular segundos: 2592000.0\n"
          ]
        }
      ]
    }
  ]
}