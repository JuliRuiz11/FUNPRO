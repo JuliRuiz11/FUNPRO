{
  "nbformat": 4,
  "nbformat_minor": 0,
  "metadata": {
    "colab": {
      "provenance": []
    },
    "kernelspec": {
      "name": "python3",
      "display_name": "Python 3"
    },
    "language_info": {
      "name": "python"
    }
  },
  "cells": [
    {
      "cell_type": "code",
      "execution_count": 37,
      "metadata": {
        "colab": {
          "base_uri": "https://localhost:8080/"
        },
        "id": "ufuM8gSqVq4K",
        "outputId": "f0274b0d-e98c-4438-9cd9-8d3932cd0aec"
      },
      "outputs": [
        {
          "name": "stdout",
          "output_type": "stream",
          "text": [
            "Pedir un número entero positivo (NUM) 5\n",
            "Pedir un número entero positivo (NUM) 5\n",
            "Pedir un número entero positivo (NUM2) 8\n",
            "Pedir un número entero posivito (NUM2) 8\n",
            "Pedir un número entero positivo (NUM2) 4\n"
          ]
        }
      ],
      "source": [
        "1 #Leer un número entero positivo (NUM)\n",
        "cod1=float(input (\"Pedir un número entero positivo (NUM) \"))\n",
        "base1=float(input (\"Pedir un número entero positivo (NUM) \"))\n",
        "\n",
        "cod2=float(input (\"Pedir un número entero positivo (NUM2) \"))\n",
        "base2=float(input (\"Pedir un número entero posivito (NUM2) \"))\n",
        "vol2=float(input (\"Pedir un número entero positivo (NUM2) \"))"
      ]
    },
    {
      "cell_type": "code",
      "source": [
        "calcular1=(cod1*base1)\n",
        "calcular2=(cod2*base2*vol2)"
      ],
      "metadata": {
        "id": "5IVYws9JcR1i"
      },
      "execution_count": 39,
      "outputs": []
    },
    {
      "cell_type": "code",
      "source": [
        "#Leer cuadrado: NUM * NUM\n",
        "\n",
        "print(f\"Calcular cuadrado: {calcular1}\")\n",
        "print(f\"Calcular cubo: {calcular2}\")\n",
        "\n"
      ],
      "metadata": {
        "colab": {
          "base_uri": "https://localhost:8080/"
        },
        "id": "o5XWxSBjXNYI",
        "outputId": "cedbc48a-7f1d-4f02-c513-5647d58437d0"
      },
      "execution_count": 40,
      "outputs": [
        {
          "output_type": "stream",
          "name": "stdout",
          "text": [
            "Calcular cuadrado: 25.0\n",
            "Calcular cubo: 256.0\n"
          ]
        }
      ]
    }
  ]
}