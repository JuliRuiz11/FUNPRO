{
  "nbformat": 4,
  "nbformat_minor": 0,
  "metadata": {
    "colab": {
      "provenance": []
    },
    "kernelspec": {
      "name": "python3",
      "display_name": "Python 3"
    },
    "language_info": {
      "name": "python"
    }
  },
  "cells": [
    {
      "cell_type": "code",
      "execution_count": 5,
      "metadata": {
        "colab": {
          "base_uri": "https://localhost:8080/"
        },
        "id": "JYAqg_1xpxhp",
        "outputId": "5cc27c73-1332-4245-e9f1-2b097ca48ecf"
      },
      "outputs": [
        {
          "name": "stdout",
          "output_type": "stream",
          "text": [
            "Punto X1 2.8\n",
            "Punto Y1 2.6\n",
            "Punto X2 3.0\n",
            "Punto Y2 3.3\n"
          ]
        }
      ],
      "source": [
        "# Distancia entre dos puntos\n",
        "\n",
        "X1=float(input(\"Punto X1 \"))\n",
        "Y1=float(input(\"Punto Y1 \"))\n",
        "X2=float(input(\"Punto X2 \"))\n",
        "Y2=float(input(\"Punto Y2 \"))"
      ]
    },
    {
      "cell_type": "code",
      "source": [
        "# Calcular distancia\n",
        "\n",
        "import math\n",
        "distancia=math.sqrt((X1-X2)**2 + (Y1-Y2)**2)\n"
      ],
      "metadata": {
        "id": "37VsNVlLrm1T"
      },
      "execution_count": 16,
      "outputs": []
    },
    {
      "cell_type": "code",
      "source": [
        "# Mostrar distancia\n",
        "\n",
        "print(f\"Distancia entre dos puntos: {distancia}\")"
      ],
      "metadata": {
        "colab": {
          "base_uri": "https://localhost:8080/"
        },
        "id": "cUyemfBbtSl8",
        "outputId": "3b3c5044-0952-464b-cc1d-8de93635bb4c"
      },
      "execution_count": 17,
      "outputs": [
        {
          "output_type": "stream",
          "name": "stdout",
          "text": [
            "Distancia entre dos puntos: 0.7280109889280516\n"
          ]
        }
      ]
    }
  ]
}