{
  "nbformat": 4,
  "nbformat_minor": 0,
  "metadata": {
    "colab": {
      "provenance": []
    },
    "kernelspec": {
      "name": "python3",
      "display_name": "Python 3"
    },
    "language_info": {
      "name": "python"
    }
  },
  "cells": [
    {
      "cell_type": "code",
      "execution_count": 8,
      "metadata": {
        "colab": {
          "base_uri": "https://localhost:8080/"
        },
        "id": "QHTsQwuSfnSV",
        "outputId": "3565f58e-745d-4db0-d108-2a3f4a60b2dd"
      },
      "outputs": [
        {
          "name": "stdout",
          "output_type": "stream",
          "text": [
            "Pedir base rectangulo 6\n",
            "Pedir altura rectangulo 8\n"
          ]
        }
      ],
      "source": [
        "#Leer base y altura del rectangulo\n",
        "cod1=float(input(\"Pedir base rectangulo \"))\n",
        "cod2=float(input(\"Pedir altura rectangulo \"))"
      ]
    },
    {
      "cell_type": "code",
      "source": [
        "calcular1=2*(cod1*cod2)\n",
        "calcular2=(cod1*cod2)"
      ],
      "metadata": {
        "id": "Oe3VjW4Ig0aA"
      },
      "execution_count": 9,
      "outputs": []
    },
    {
      "cell_type": "code",
      "source": [
        "#Leer perimetro: 2*(cod1*cod2)"
      ],
      "metadata": {
        "id": "xOTnG7eshqMO"
      },
      "execution_count": null,
      "outputs": []
    },
    {
      "cell_type": "code",
      "source": [
        "print(f\"Calcular perimetro: {calcular1}\")\n",
        "print(f\"Calcular superficie: {calcular2}\")"
      ],
      "metadata": {
        "colab": {
          "base_uri": "https://localhost:8080/"
        },
        "id": "xlHwci3nTaDa",
        "outputId": "97de79fe-cd6d-444d-f345-04bc0fffea95"
      },
      "execution_count": 10,
      "outputs": [
        {
          "output_type": "stream",
          "name": "stdout",
          "text": [
            "Calcular perimetro: 96.0\n",
            "Calcular superficie: 48.0\n"
          ]
        }
      ]
    }
  ]
}