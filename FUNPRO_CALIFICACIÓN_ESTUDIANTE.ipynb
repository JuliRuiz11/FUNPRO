{
  "nbformat": 4,
  "nbformat_minor": 0,
  "metadata": {
    "colab": {
      "provenance": []
    },
    "kernelspec": {
      "name": "python3",
      "display_name": "Python 3"
    },
    "language_info": {
      "name": "python"
    }
  },
  "cells": [
    {
      "cell_type": "code",
      "execution_count": 2,
      "metadata": {
        "colab": {
          "base_uri": "https://localhost:8080/"
        },
        "id": "SGNuiwHgMi1h",
        "outputId": "10ba2bfd-0fa7-4e54-fc99-ed7c06167d38"
      },
      "outputs": [
        {
          "name": "stdout",
          "output_type": "stream",
          "text": [
            "Ingrese el código del estudiante: U00182995\n"
          ]
        }
      ],
      "source": [
        "1 #Leer código el estudiante\n",
        "cod=input (\"Ingrese el código del estudiante: \")\n"
      ]
    },
    {
      "cell_type": "code",
      "source": [
        "#Leer cinco calificaciones\n",
        "nota1=float(input(\"Ingrese nota 1: \"))\n",
        "nota2=float(input(\"Ingrese nota 2:  \"))\n",
        "nota3=float(input(\"Ingrese nota 3:  \"))\n",
        "nota4=float(input(\"Ingrese nota 4:  \"))\n",
        "nota5=float(input(\"Ingrese nota 5:  \"))"
      ],
      "metadata": {
        "colab": {
          "base_uri": "https://localhost:8080/"
        },
        "id": "LNkKwkMhOV7v",
        "outputId": "bc757d65-62ba-4854-e7fb-3ea1de1488ea"
      },
      "execution_count": 19,
      "outputs": [
        {
          "name": "stdout",
          "output_type": "stream",
          "text": [
            "Ingrese nota 1: 3\n",
            "Ingrese nota 2:  2\n",
            "Ingrese nota 3:  4\n",
            "Ingrese nota 4:  3\n",
            "Ingrese nota 5:  5\n"
          ]
        }
      ]
    },
    {
      "cell_type": "code",
      "source": [
        "promedio=(nota1+nota2+nota3+nota4+nota5)/5"
      ],
      "metadata": {
        "id": "hc7BTndSPR5P"
      },
      "execution_count": 20,
      "outputs": []
    },
    {
      "cell_type": "code",
      "source": [
        "print(f\"Código del estudiante : {cod}/promedio: {promedio}\")"
      ],
      "metadata": {
        "colab": {
          "base_uri": "https://localhost:8080/"
        },
        "id": "9xjB7F-8ShRT",
        "outputId": "89e9d61e-ba49-4e40-8b4b-b6b9888cbf3a"
      },
      "execution_count": 24,
      "outputs": [
        {
          "output_type": "stream",
          "name": "stdout",
          "text": [
            "Código del estudiante : U00182995/promedio: 3.4\n"
          ]
        }
      ]
    }
  ]
}