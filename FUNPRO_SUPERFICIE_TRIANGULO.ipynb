{
  "nbformat": 4,
  "nbformat_minor": 0,
  "metadata": {
    "colab": {
      "provenance": []
    },
    "kernelspec": {
      "name": "python3",
      "display_name": "Python 3"
    },
    "language_info": {
      "name": "python"
    }
  },
  "cells": [
    {
      "cell_type": "code",
      "execution_count": 4,
      "metadata": {
        "colab": {
          "base_uri": "https://localhost:8080/"
        },
        "id": "TfNWqz5DcfRx",
        "outputId": "adc89902-c6f6-487d-be4f-22ff36b8fe69"
      },
      "outputs": [
        {
          "name": "stdout",
          "output_type": "stream",
          "text": [
            "Base del triangulo 10\n",
            "Altura del triangulo 20\n"
          ]
        }
      ],
      "source": [
        "# Leer superficie de un triangulo\n",
        "\n",
        "base=float(input(\"Base del triangulo \"))\n",
        "altura=float(input(\"Altura del triangulo \"))\n"
      ]
    },
    {
      "cell_type": "code",
      "source": [
        "# Calcular superficie\n",
        "\n",
        "calcular1=(base*altura)/2"
      ],
      "metadata": {
        "id": "GkQyI6PNgDbZ"
      },
      "execution_count": 5,
      "outputs": []
    },
    {
      "cell_type": "code",
      "source": [
        "# Mostrar superficie\n",
        "\n",
        "print(f\"Calcular superficie: {calcular1}\")"
      ],
      "metadata": {
        "colab": {
          "base_uri": "https://localhost:8080/"
        },
        "id": "G_-JH6ghgY3R",
        "outputId": "93c3798e-78db-47dc-d01f-7f5a70af1257"
      },
      "execution_count": 6,
      "outputs": [
        {
          "output_type": "stream",
          "name": "stdout",
          "text": [
            "Calcular superficie: 100.0\n"
          ]
        }
      ]
    }
  ]
}