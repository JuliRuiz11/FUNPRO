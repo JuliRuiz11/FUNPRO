{
  "nbformat": 4,
  "nbformat_minor": 0,
  "metadata": {
    "colab": {
      "provenance": []
    },
    "kernelspec": {
      "name": "python3",
      "display_name": "Python 3"
    },
    "language_info": {
      "name": "python"
    }
  },
  "cells": [
    {
      "cell_type": "code",
      "execution_count": 3,
      "metadata": {
        "colab": {
          "base_uri": "https://localhost:8080/"
        },
        "id": "y3pHg1lyVUHD",
        "outputId": "64d3effc-4b5e-4d18-a4fd-8e111843b049"
      },
      "outputs": [
        {
          "name": "stdout",
          "output_type": "stream",
          "text": [
            "Costo album 198\n",
            "Costo armybomb 148\n"
          ]
        }
      ],
      "source": [
        "# Leer cambio de dinero\n",
        "cod1=float(input(\"Costo album \"))\n",
        "cod2=float(input(\"Costo armybomb \"))"
      ]
    },
    {
      "cell_type": "code",
      "source": [
        "# Leer dinero entregado por cliente\n",
        "din=float(input(\" Dinero entrgado cliente \"))"
      ],
      "metadata": {
        "colab": {
          "base_uri": "https://localhost:8080/"
        },
        "id": "3Acv-PCsVqRG",
        "outputId": "9b03222e-7ec7-4d59-ff0f-29118a5e7922"
      },
      "execution_count": 4,
      "outputs": [
        {
          "name": "stdout",
          "output_type": "stream",
          "text": [
            " Dinero entrgado cliente 500\n"
          ]
        }
      ]
    },
    {
      "cell_type": "code",
      "source": [
        "# Calcular cambio\n",
        "calcular1=(cod1+cod2)\n",
        "calcular2=(din-calcular1)"
      ],
      "metadata": {
        "id": "yEECdXQgXW3S"
      },
      "execution_count": 9,
      "outputs": []
    },
    {
      "cell_type": "code",
      "source": [
        "# Cambio a entregar\n",
        "\n",
        "print(f\"Sumar productos comprados: {calcular1}\")\n",
        "print(f\"Restar costo a dinero entregado {calcular2}\")"
      ],
      "metadata": {
        "colab": {
          "base_uri": "https://localhost:8080/"
        },
        "id": "zT2AKB_eXaf3",
        "outputId": "c10dcefe-9e64-4dee-cf00-5fdb11554cab"
      },
      "execution_count": 10,
      "outputs": [
        {
          "output_type": "stream",
          "name": "stdout",
          "text": [
            "Sumar productos comprados: 346.0\n",
            "Restar costo a dinero entregado 154.0\n"
          ]
        }
      ]
    }
  ]
}